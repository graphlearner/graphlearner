{
 "cells": [
  {
   "cell_type": "markdown",
   "metadata": {},
   "source": [
    "### 1 Partitioning Run-time prediction\n",
    "Use the correct timestamp"
   ]
  },
  {
   "cell_type": "code",
   "execution_count": 1,
   "metadata": {},
   "outputs": [
    {
     "name": "stdout",
     "output_type": "stream",
     "text": [
      "We trained 5 models (5 expected) and select the best model based on the cross-validation of the rmat graphs\n"
     ]
    },
    {
     "data": {
      "text/html": [
       "<div>\n",
       "<style scoped>\n",
       "    .dataframe tbody tr th:only-of-type {\n",
       "        vertical-align: middle;\n",
       "    }\n",
       "\n",
       "    .dataframe tbody tr th {\n",
       "        vertical-align: top;\n",
       "    }\n",
       "\n",
       "    .dataframe thead th {\n",
       "        text-align: right;\n",
       "    }\n",
       "</style>\n",
       "<table border=\"1\" class=\"dataframe\">\n",
       "  <thead>\n",
       "    <tr style=\"text-align: right;\">\n",
       "      <th></th>\n",
       "      <th>mape</th>\n",
       "      <th>model</th>\n",
       "    </tr>\n",
       "  </thead>\n",
       "  <tbody>\n",
       "    <tr>\n",
       "      <th>266</th>\n",
       "      <td>0.335002</td>\n",
       "      <td>XGB</td>\n",
       "    </tr>\n",
       "  </tbody>\n",
       "</table>\n",
       "</div>"
      ],
      "text/plain": [
       "         mape model\n",
       "266  0.335002   XGB"
      ]
     },
     "execution_count": 1,
     "metadata": {},
     "output_type": "execute_result"
    }
   ],
   "source": [
    "import pandas as pd\n",
    "scores_df = pd.read_csv(\"results-partitioning-run-time-prediction/2022-03-18-07:49:18/scores-partitioning_time\")\n",
    "scores_overall_df = scores_df[(scores_df.graph == \"all\") & (scores_df.partitioner == \"all\") & (scores_df.training_approach == \"single-model-for-all-partitioners\")]\n",
    "NUMBER_MODELS = len(scores_overall_df.model.unique())\n",
    "print(\"We trained {} models ({} expected) and select the best model based on the cross-validation of the rmat graphs\".format(len(scores_overall_df), NUMBER_MODELS))\n",
    "#Based on the cross valiudation score we select the best model. \n",
    "idx = scores_overall_df.groupby([\"partitioner\"])['rmat_cv_score'].transform(max) == scores_overall_df['rmat_cv_score']\n",
    "# Now, we report the mape for the best model selected in the line above.\n",
    "best_scores_overall_df = scores_overall_df[idx]\n",
    "best_scores_overall_df[[\"mape\",  \"model\"]]"
   ]
  },
  {
   "cell_type": "markdown",
   "metadata": {},
   "source": [
    "### 2. Processing Run-time prediction\n",
    "Use the correct timestamp"
   ]
  },
  {
   "cell_type": "code",
   "execution_count": 2,
   "metadata": {},
   "outputs": [
    {
     "name": "stdout",
     "output_type": "stream",
     "text": [
      "We trained 30 models (= 6 graph processing algorithms and 5 machine learning algorithms = 30) \n",
      " and select the best model based on the cross-validation on the rmat graphs\n"
     ]
    },
    {
     "data": {
      "text/html": [
       "<div>\n",
       "<style scoped>\n",
       "    .dataframe tbody tr th:only-of-type {\n",
       "        vertical-align: middle;\n",
       "    }\n",
       "\n",
       "    .dataframe tbody tr th {\n",
       "        vertical-align: top;\n",
       "    }\n",
       "\n",
       "    .dataframe thead th {\n",
       "        text-align: right;\n",
       "    }\n",
       "</style>\n",
       "<table border=\"1\" class=\"dataframe\">\n",
       "  <thead>\n",
       "    <tr style=\"text-align: right;\">\n",
       "      <th></th>\n",
       "      <th>algorithm</th>\n",
       "      <th>model</th>\n",
       "      <th>mape</th>\n",
       "    </tr>\n",
       "  </thead>\n",
       "  <tbody>\n",
       "    <tr>\n",
       "      <th>177</th>\n",
       "      <td>Connected Components</td>\n",
       "      <td>PolyRegression</td>\n",
       "      <td>0.272462</td>\n",
       "    </tr>\n",
       "    <tr>\n",
       "      <th>1601</th>\n",
       "      <td>K-Cores</td>\n",
       "      <td>XGB</td>\n",
       "      <td>0.400950</td>\n",
       "    </tr>\n",
       "    <tr>\n",
       "      <th>711</th>\n",
       "      <td>PageRank</td>\n",
       "      <td>XGB</td>\n",
       "      <td>0.294993</td>\n",
       "    </tr>\n",
       "    <tr>\n",
       "      <th>1156</th>\n",
       "      <td>Single Source Shortest Paths</td>\n",
       "      <td>XGB</td>\n",
       "      <td>0.300072</td>\n",
       "    </tr>\n",
       "    <tr>\n",
       "      <th>2402</th>\n",
       "      <td>Synthetic-High</td>\n",
       "      <td>PolyRegression</td>\n",
       "      <td>0.259128</td>\n",
       "    </tr>\n",
       "    <tr>\n",
       "      <th>1957</th>\n",
       "      <td>Synthetic-Low</td>\n",
       "      <td>PolyRegression</td>\n",
       "      <td>0.271258</td>\n",
       "    </tr>\n",
       "  </tbody>\n",
       "</table>\n",
       "</div>"
      ],
      "text/plain": [
       "                         algorithm           model      mape\n",
       "177           Connected Components  PolyRegression  0.272462\n",
       "1601                       K-Cores             XGB  0.400950\n",
       "711                       PageRank             XGB  0.294993\n",
       "1156  Single Source Shortest Paths             XGB  0.300072\n",
       "2402                Synthetic-High  PolyRegression  0.259128\n",
       "1957                 Synthetic-Low  PolyRegression  0.271258"
      ]
     },
     "execution_count": 2,
     "metadata": {},
     "output_type": "execute_result"
    }
   ],
   "source": [
    "scores_df = pd.read_csv(\"results-graph-processing-run-time-prediction/2022-03-18-07:49:44/scores-processing_time\")\n",
    "scores_overall_df = scores_df[(scores_df.graph == \"all\") & (scores_df.partitioner == \"all\") & (scores_df.training_approach == \"single-model-for-all-partitioners\")  ]\n",
    "print(\"We trained {} models (= 6 graph processing algorithms and 5 machine learning algorithms = 30) \\n and select the best model based on the cross-validation on the rmat graphs\".format(len(scores_overall_df)))\n",
    "\n",
    "idx = scores_overall_df.groupby([\"algorithm\", \"partitioner\"])['rmat_cv_score'].transform(max) == scores_overall_df['rmat_cv_score']\n",
    "best_scores_overall_df = scores_overall_df[idx].sort_values(by=[\"algorithm\", \"mape\"])\n",
    "\n",
    "# Write out algorithm name as in the paper:\n",
    "best_scores_overall_df.replace('cc', \"Connected Components\", inplace=True)\n",
    "best_scores_overall_df.replace('kcoreavg', \"K-Cores\", inplace=True)\n",
    "best_scores_overall_df.replace('pr', \"PageRank\", inplace=True)\n",
    "best_scores_overall_df.replace('sssp1', \"Single Source Shortest Paths\", inplace=True)\n",
    "best_scores_overall_df.replace('synthetic10c0', \"Synthetic-High\", inplace=True)\n",
    "best_scores_overall_df.replace('synthetic1c0', \"Synthetic-Low\", inplace=True)\n",
    "\n",
    "best_scores_overall_df[[\"algorithm\", \"model\", \"mape\"]]"
   ]
  },
  {
   "cell_type": "markdown",
   "metadata": {},
   "source": []
  }
 ],
 "metadata": {
  "interpreter": {
   "hash": "caf1c2fcf97217de91eafa76b907d50f9ea378f5ffbee7f571142d119bb6a771"
  },
  "kernelspec": {
   "display_name": "Python 3.8.5 ('base': conda)",
   "language": "python",
   "name": "python3"
  },
  "language_info": {
   "codemirror_mode": {
    "name": "ipython",
    "version": 3
   },
   "file_extension": ".py",
   "mimetype": "text/x-python",
   "name": "python",
   "nbconvert_exporter": "python",
   "pygments_lexer": "ipython3",
   "version": "3.8.5"
  },
  "orig_nbformat": 4
 },
 "nbformat": 4,
 "nbformat_minor": 2
}
